{
 "cells": [
  {
   "cell_type": "markdown",
   "metadata": {
    "id": "Yl3liTlqF2tZ"
   },
   "source": [
    "# Multiple Cryptocurrencies Trading Demo"
   ]
  },
  {
   "cell_type": "markdown",
   "metadata": {
    "id": "Ph-kT4laFy5k"
   },
   "source": [
    "## Installation"
   ]
  },
  {
   "cell_type": "markdown",
   "metadata": {
    "id": "NVuCBw07AGgJ"
   },
   "source": [
    "<a target=\"_blank\" href=\"https://colab.research.google.com/github/AI4Finance-Foundation/FinRL-Tutorials/blob/master/2-Advance/MultiCrypto_Trading.ipynb\">\n",
    "  <img src=\"https://colab.research.google.com/assets/colab-badge.svg\" alt=\"Open In Colab\"/>\n",
    "</a>"
   ]
  },
  {
   "cell_type": "code",
   "execution_count": 2,
   "metadata": {
    "id": "GfKfNSTnEqsq",
    "pycharm": {
     "is_executing": true
    }
   },
   "outputs": [
    {
     "name": "stdout",
     "output_type": "stream",
     "text": [
      "/\n",
      "/FinRL-Meta\n",
      "Looking in indexes: https://pypi.tuna.tsinghua.edu.cn/simple\n",
      "Collecting google.colab\n",
      "  Downloading https://pypi.tuna.tsinghua.edu.cn/packages/70/9f/d3ec1275a089ec017f9c91af22ecd1e2fe738254b944e7a1f9528fcfacd0/google-colab-1.0.0.tar.gz (72 kB)\n",
      "\u001b[2K     \u001b[90m━━━━━━━━━━━━━━━━━━━━━━━━━━━━━━━━━━━━━━━\u001b[0m \u001b[32m72.9/72.9 kB\u001b[0m \u001b[31m612.9 kB/s\u001b[0m eta \u001b[36m0:00:00\u001b[0m00:01\u001b[0m00:01\u001b[0m\n",
      "\u001b[?25h  Preparing metadata (setup.py) ... \u001b[?25ldone\n",
      "\u001b[?25hCollecting google-auth~=1.4.0 (from google.colab)\n",
      "  Downloading https://pypi.tuna.tsinghua.edu.cn/packages/56/80/369a47c28ce7d9be6a6973338133d073864d8efbb62747e414c34a3a5f4f/google_auth-1.4.2-py2.py3-none-any.whl (64 kB)\n",
      "\u001b[2K     \u001b[90m━━━━━━━━━━━━━━━━━━━━━━━━━━━━━━━━━━━━━━━━\u001b[0m \u001b[32m64.2/64.2 kB\u001b[0m \u001b[31m1.2 MB/s\u001b[0m eta \u001b[36m0:00:00\u001b[0ma \u001b[36m0:00:01\u001b[0m\n",
      "\u001b[?25hCollecting ipykernel~=4.6.0 (from google.colab)\n",
      "  Downloading https://pypi.tuna.tsinghua.edu.cn/packages/18/c3/76775a650cae2e3d9c033b26153583e61282692d9a3af12a3022d8f0cefa/ipykernel-4.6.1-py3-none-any.whl (104 kB)\n",
      "\u001b[2K     \u001b[90m━━━━━━━━━━━━━━━━━━━━━━━━━━━━━━━━━━━━━━━\u001b[0m \u001b[32m104.5/104.5 kB\u001b[0m \u001b[31m2.0 MB/s\u001b[0m eta \u001b[36m0:00:00\u001b[0m00:01\u001b[0m\n",
      "\u001b[?25hCollecting ipython~=5.5.0 (from google.colab)\n",
      "  Downloading https://pypi.tuna.tsinghua.edu.cn/packages/07/63/c987612bcf82c56eaacaf6bf01e31e53a244a0a3a0fb036ec5adc377e0fe/ipython-5.5.0-py3-none-any.whl (758 kB)\n",
      "\u001b[2K     \u001b[90m━━━━━━━━━━━━━━━━━━━━━━━━━━━━━━━━━━━━━━━\u001b[0m \u001b[32m758.9/758.9 kB\u001b[0m \u001b[31m5.3 MB/s\u001b[0m eta \u001b[36m0:00:00\u001b[0m00:01\u001b[0m00:01\u001b[0m\n",
      "\u001b[?25hCollecting notebook~=5.2.0 (from google.colab)\n",
      "  Downloading https://pypi.tuna.tsinghua.edu.cn/packages/96/a2/d951ebb7855743f989287486ded73cd3f66915c3ecd9c5c5a0c7ca12377a/notebook-5.2.2-py2.py3-none-any.whl (8.0 MB)\n",
      "\u001b[2K     \u001b[90m━━━━━━━━━━━━━━━━━━━━━━━━━━━━━━━━━━━━━━━━\u001b[0m \u001b[32m8.0/8.0 MB\u001b[0m \u001b[31m41.3 MB/s\u001b[0m eta \u001b[36m0:00:00\u001b[0m00:01\u001b[0m00:01\u001b[0m\n",
      "\u001b[?25hCollecting six~=1.12.0 (from google.colab)\n",
      "  Downloading https://pypi.tuna.tsinghua.edu.cn/packages/73/fb/00a976f728d0d1fecfe898238ce23f502a721c0ac0ecfedb80e0d88c64e9/six-1.12.0-py2.py3-none-any.whl (10 kB)\n",
      "Collecting pandas~=0.24.0 (from google.colab)\n",
      "  Downloading https://pypi.tuna.tsinghua.edu.cn/packages/b2/4c/b6f966ac91c5670ba4ef0b0b5613b5379e3c7abdfad4e7b89a87d73bae13/pandas-0.24.2.tar.gz (11.8 MB)\n",
      "\u001b[2K     \u001b[90m━━━━━━━━━━━━━━━━━━━━━━━━━━━━━━━━━━━━━━━━\u001b[0m \u001b[32m11.8/11.8 MB\u001b[0m \u001b[31m62.2 MB/s\u001b[0m eta \u001b[36m0:00:00\u001b[0m00:01\u001b[0m00:01\u001b[0m\n",
      "\u001b[?25h  Preparing metadata (setup.py) ... \u001b[?25lerror\n",
      "  \u001b[1;31merror\u001b[0m: \u001b[1msubprocess-exited-with-error\u001b[0m\n",
      "  \n",
      "  \u001b[31m×\u001b[0m \u001b[32mpython setup.py egg_info\u001b[0m did not run successfully.\n",
      "  \u001b[31m│\u001b[0m exit code: \u001b[1;36m1\u001b[0m\n",
      "  \u001b[31m╰─>\u001b[0m \u001b[31m[15 lines of output]\u001b[0m\n",
      "  \u001b[31m   \u001b[0m /tmp/pip-install-n_3s9jia/pandas_ca6d285ba3504643b97775a6c2705677/setup.py:12: DeprecationWarning: pkg_resources is deprecated as an API. See https://setuptools.pypa.io/en/latest/pkg_resources.html\n",
      "  \u001b[31m   \u001b[0m   import pkg_resources\n",
      "  \u001b[31m   \u001b[0m /usr/local/lib/python3.10/dist-packages/setuptools/__init__.py:80: _DeprecatedInstaller: setuptools.installer and fetch_build_eggs are deprecated.\n",
      "  \u001b[31m   \u001b[0m !!\n",
      "  \u001b[31m   \u001b[0m \n",
      "  \u001b[31m   \u001b[0m         ********************************************************************************\n",
      "  \u001b[31m   \u001b[0m         Requirements should be satisfied by a PEP 517 installer.\n",
      "  \u001b[31m   \u001b[0m         If you are using pip, you can try `pip install --use-pep517`.\n",
      "  \u001b[31m   \u001b[0m         ********************************************************************************\n",
      "  \u001b[31m   \u001b[0m \n",
      "  \u001b[31m   \u001b[0m !!\n",
      "  \u001b[31m   \u001b[0m   dist.fetch_build_eggs(dist.setup_requires)\n",
      "  \u001b[31m   \u001b[0m error in pandas setup command: 'install_requires' must be a string or list of strings containing valid project/version requirement specifiers; Expected end or semicolon (after version specifier)\n",
      "  \u001b[31m   \u001b[0m     pytz >= 2011k\n",
      "  \u001b[31m   \u001b[0m          ~~~~~~~^\n",
      "  \u001b[31m   \u001b[0m \u001b[31m[end of output]\u001b[0m\n",
      "  \n",
      "  \u001b[1;35mnote\u001b[0m: This error originates from a subprocess, and is likely not a problem with pip.\n",
      "\u001b[1;31merror\u001b[0m: \u001b[1mmetadata-generation-failed\u001b[0m\n",
      "\n",
      "\u001b[31m×\u001b[0m Encountered error while generating package metadata.\n",
      "\u001b[31m╰─>\u001b[0m See above for output.\n",
      "\n",
      "\u001b[1;35mnote\u001b[0m: This is an issue with the package mentioned above, not pip.\n",
      "\u001b[1;36mhint\u001b[0m: See above for details.\n",
      "\n",
      "\u001b[1m[\u001b[0m\u001b[34;49mnotice\u001b[0m\u001b[1;39;49m]\u001b[0m\u001b[39;49m A new release of pip is available: \u001b[0m\u001b[31;49m23.3.2\u001b[0m\u001b[39;49m -> \u001b[0m\u001b[32;49m24.0\u001b[0m\n",
      "\u001b[1m[\u001b[0m\u001b[34;49mnotice\u001b[0m\u001b[1;39;49m]\u001b[0m\u001b[39;49m To update, run: \u001b[0m\u001b[32;49mpython3 -m pip install --upgrade pip\u001b[0m\n",
      "\u001b[?25h\u001b[33mWARNING: Running pip as the 'root' user can result in broken permissions and conflicting behaviour with the system package manager. It is recommended to use a virtual environment instead: https://pip.pypa.io/warnings/venv\u001b[0m\u001b[33m\n",
      "\u001b[0m\n",
      "\u001b[1m[\u001b[0m\u001b[34;49mnotice\u001b[0m\u001b[1;39;49m]\u001b[0m\u001b[39;49m A new release of pip is available: \u001b[0m\u001b[31;49m23.3.2\u001b[0m\u001b[39;49m -> \u001b[0m\u001b[32;49m24.0\u001b[0m\n",
      "\u001b[1m[\u001b[0m\u001b[34;49mnotice\u001b[0m\u001b[1;39;49m]\u001b[0m\u001b[39;49m To update, run: \u001b[0m\u001b[32;49mpython3 -m pip install --upgrade pip\u001b[0m\n"
     ]
    },
    {
     "ename": "RuntimeError",
     "evalue": "This module must ONLY run as part of a Colab notebook!",
     "output_type": "error",
     "traceback": [
      "\u001b[0;31m---------------------------------------------------------------------------\u001b[0m",
      "\u001b[0;31mModuleNotFoundError\u001b[0m                       Traceback (most recent call last)",
      "File \u001b[0;32m/usr/local/lib/python3.10/dist-packages/condacolab.py:27\u001b[0m\n\u001b[1;32m     26\u001b[0m \u001b[38;5;28;01mtry\u001b[39;00m:\n\u001b[0;32m---> 27\u001b[0m     \u001b[38;5;28;01mimport\u001b[39;00m \u001b[38;5;21;01mgoogle\u001b[39;00m\u001b[38;5;21;01m.\u001b[39;00m\u001b[38;5;21;01mcolab\u001b[39;00m\n\u001b[1;32m     28\u001b[0m \u001b[38;5;28;01mexcept\u001b[39;00m \u001b[38;5;167;01mImportError\u001b[39;00m:\n",
      "\u001b[0;31mModuleNotFoundError\u001b[0m: No module named 'google.colab'",
      "\nDuring handling of the above exception, another exception occurred:\n",
      "\u001b[0;31mRuntimeError\u001b[0m                              Traceback (most recent call last)",
      "Cell \u001b[0;32mIn[2], line 9\u001b[0m\n\u001b[1;32m      7\u001b[0m get_ipython()\u001b[38;5;241m.\u001b[39msystem(\u001b[38;5;124m'\u001b[39m\u001b[38;5;124mpip install google.colab -i https://pypi.tuna.tsinghua.edu.cn/simple\u001b[39m\u001b[38;5;124m'\u001b[39m)\n\u001b[1;32m      8\u001b[0m get_ipython()\u001b[38;5;241m.\u001b[39msystem(\u001b[38;5;124m'\u001b[39m\u001b[38;5;124mpip install -q condacolab -i https://pypi.tuna.tsinghua.edu.cn/simple\u001b[39m\u001b[38;5;124m'\u001b[39m)\n\u001b[0;32m----> 9\u001b[0m \u001b[38;5;28;01mimport\u001b[39;00m \u001b[38;5;21;01mcondacolab\u001b[39;00m\n\u001b[1;32m     10\u001b[0m condacolab\u001b[38;5;241m.\u001b[39minstall()\n\u001b[1;32m     11\u001b[0m get_ipython()\u001b[38;5;241m.\u001b[39msystem(\u001b[38;5;124m'\u001b[39m\u001b[38;5;124mapt-get update -y -qq && apt-get install -y -qq cmake libopenmpi-dev python3-dev zlib1g-dev libgl1-mesa-glx swig\u001b[39m\u001b[38;5;124m'\u001b[39m)\n",
      "File \u001b[0;32m/usr/local/lib/python3.10/dist-packages/condacolab.py:29\u001b[0m\n\u001b[1;32m     27\u001b[0m     \u001b[38;5;28;01mimport\u001b[39;00m \u001b[38;5;21;01mgoogle\u001b[39;00m\u001b[38;5;21;01m.\u001b[39;00m\u001b[38;5;21;01mcolab\u001b[39;00m\n\u001b[1;32m     28\u001b[0m \u001b[38;5;28;01mexcept\u001b[39;00m \u001b[38;5;167;01mImportError\u001b[39;00m:\n\u001b[0;32m---> 29\u001b[0m     \u001b[38;5;28;01mraise\u001b[39;00m \u001b[38;5;167;01mRuntimeError\u001b[39;00m(\u001b[38;5;124m\"\u001b[39m\u001b[38;5;124mThis module must ONLY run as part of a Colab notebook!\u001b[39m\u001b[38;5;124m\"\u001b[39m)\n\u001b[1;32m     32\u001b[0m __version__ \u001b[38;5;241m=\u001b[39m \u001b[38;5;124m\"\u001b[39m\u001b[38;5;124m0.1.9\u001b[39m\u001b[38;5;124m\"\u001b[39m\n\u001b[1;32m     33\u001b[0m __author__ \u001b[38;5;241m=\u001b[39m \u001b[38;5;124m\"\u001b[39m\u001b[38;5;124mJaime Rodríguez-Guerra <jaimergp@users.noreply.github.com>\u001b[39m\u001b[38;5;124m\"\u001b[39m\n",
      "\u001b[0;31mRuntimeError\u001b[0m: This module must ONLY run as part of a Colab notebook!"
     ]
    }
   ],
   "source": [
    "%cd /\n",
    "#!git clone https://github.com/AI4Finance-Foundation/FinRL-Meta\n",
    "%cd /FinRL-Meta/\n",
    "#!pip install git+https://github.com/AI4Finance-Foundation/ElegantRL.git\n",
    "#!pip install wrds\n",
    "#!pip install swig\n",
    "!pip install google.colab -i https://pypi.tuna.tsinghua.edu.cn/simple\n",
    "!pip install -q condacolab -i https://pypi.tuna.tsinghua.edu.cn/simple\n",
    "import condacolab\n",
    "condacolab.install()\n",
    "!apt-get update -y -qq && apt-get install -y -qq cmake libopenmpi-dev python3-dev zlib1g-dev libgl1-mesa-glx swig\n",
    "#!pip install git+https://github.com/AI4Finance-Foundation/FinRL.git\n",
    "#!pip install yfinance stockstats\n",
    "#!pip install alpaca_trade_api\n",
    "#!pip install ray[default]\n",
    "#!pip install lz4\n",
    "#!pip install ray[tune]\n",
    "#!pip install tensorboardX\n",
    "#!pip install gputil\n",
    "#!pip install trading_calendars\n",
    "#!pip install wrds\n",
    "#!pip install rqdatac\n",
    "#!pip install sqlalchemy==1.2.19\n",
    "#!pip install tushare\n",
    "#install talib\n",
    "!wget http://prdownloads.sourceforge.net/ta-lib/ta-lib-0.4.0-src.tar.gz \n",
    "!tar xvzf ta-lib-0.4.0-src.tar.gz\n",
    "import os\n",
    "os.chdir('ta-lib') \n",
    "!./configure --prefix=/usr\n",
    "!make\n",
    "!make install\n",
    "os.chdir('../')\n",
    "!pip install TA-Lib -i https://pypi.tuna.tsinghua.edu.cn/simple\n",
    "!pip install baostock -i https://pypi.tuna.tsinghua.edu.cn/simple\n",
    "!pip install quandl -i https://pypi.tuna.tsinghua.edu.cn/simple"
   ]
  },
  {
   "cell_type": "markdown",
   "metadata": {
    "id": "vpUwP86TF9LE"
   },
   "source": [
    "## Import Related Packages"
   ]
  },
  {
   "cell_type": "code",
   "execution_count": null,
   "metadata": {
    "colab": {
     "base_uri": "https://localhost:8080/"
    },
    "id": "S3W6tDA_FFGA",
    "outputId": "074304b8-c615-45a2-c6e1-7be01aecf9ca",
    "pycharm": {
     "is_executing": true
    }
   },
   "outputs": [],
   "source": [
    "%cd /FinRL-Meta/\n",
    "from meta.env_crypto_trading.env_multiple_crypto import CryptoEnv"
   ]
  },
  {
   "cell_type": "markdown",
   "metadata": {
    "id": "lSDuv3R9H6Y5"
   },
   "source": [
    "## Functions for Training and Testing"
   ]
  },
  {
   "cell_type": "code",
   "execution_count": null,
   "metadata": {
    "id": "3u8KdIcwH59J",
    "pycharm": {
     "is_executing": true
    }
   },
   "outputs": [],
   "source": [
    "from agents.elegantrl_models import DRLAgent as DRLAgent_erl\n",
    "from agents.rllib_models import DRLAgent as DRLAgent_rllib\n",
    "from agents.stablebaselines3_models import DRLAgent as DRLAgent_sb3\n",
    "from meta.data_processor import DataProcessor\n",
    "\n",
    "def train(start_date, end_date, ticker_list, data_source, time_interval, \n",
    "          technical_indicator_list, drl_lib, env, model_name, if_vix=True,\n",
    "          **kwargs):\n",
    "    \n",
    "    #process data using unified data processor\n",
    "    DP = DataProcessor(data_source, start_date, end_date, time_interval, **kwargs)\n",
    "    price_array, tech_array, turbulence_array = DP.run(ticker_list,\n",
    "                                                        technical_indicator_list, \n",
    "                                                        if_vix, cache=True)\n",
    "\n",
    "    data_config = {'price_array': price_array,\n",
    "                   'tech_array': tech_array,\n",
    "                   'turbulence_array': turbulence_array}\n",
    "\n",
    "    #build environment using processed data\n",
    "    env_instance = env(config=data_config)\n",
    "\n",
    "    #read parameters and load agents\n",
    "    current_working_dir = kwargs.get('current_working_dir','./'+str(model_name))\n",
    "\n",
    "    if drl_lib == 'elegantrl':\n",
    "        break_step = kwargs.get('break_step', 1e6)\n",
    "        erl_params = kwargs.get('erl_params')\n",
    "\n",
    "        agent = DRLAgent_erl(env = env,\n",
    "                             price_array = price_array,\n",
    "                             tech_array=tech_array,\n",
    "                             turbulence_array=turbulence_array)\n",
    "\n",
    "        model = agent.get_model(model_name, model_kwargs = erl_params)\n",
    "\n",
    "        trained_model = agent.train_model(model=model, \n",
    "                                          cwd=current_working_dir,\n",
    "                                          total_timesteps=break_step)\n",
    "        \n",
    "      \n",
    "    elif drl_lib == 'rllib':\n",
    "        total_episodes = kwargs.get('total_episodes', 100)\n",
    "        rllib_params = kwargs.get('rllib_params')\n",
    "\n",
    "        agent_rllib = DRLAgent_rllib(env = env,\n",
    "                       price_array=price_array,\n",
    "                       tech_array=tech_array,\n",
    "                       turbulence_array=turbulence_array)\n",
    "\n",
    "        model,model_config = agent_rllib.get_model(model_name)\n",
    "\n",
    "        model_config['lr'] = rllib_params['lr']\n",
    "        model_config['train_batch_size'] = rllib_params['train_batch_size']\n",
    "        model_config['gamma'] = rllib_params['gamma']\n",
    "\n",
    "        trained_model = agent_rllib.train_model(model=model, \n",
    "                                          model_name=model_name,\n",
    "                                          model_config=model_config,\n",
    "                                          total_episodes=total_episodes)\n",
    "        trained_model.save(current_working_dir)\n",
    "        \n",
    "            \n",
    "    elif drl_lib == 'stable_baselines3':\n",
    "        total_timesteps = kwargs.get('total_timesteps', 1e6)\n",
    "        agent_params = kwargs.get('agent_params')\n",
    "\n",
    "        agent = DRLAgent_sb3(env = env_instance)\n",
    "\n",
    "        model = agent.get_model(model_name, model_kwargs = agent_params)\n",
    "        trained_model = agent.train_model(model=model, \n",
    "                                tb_log_name=model_name,\n",
    "                                total_timesteps=total_timesteps)\n",
    "        print('Training finished!')\n",
    "        trained_model.save(current_working_dir)\n",
    "        print('Trained model saved in ' + str(current_working_dir))\n",
    "    else:\n",
    "        raise ValueError('DRL library input is NOT supported. Please check.')"
   ]
  },
  {
   "cell_type": "code",
   "execution_count": null,
   "metadata": {
    "id": "j4sKCkoAIegn",
    "pycharm": {
     "is_executing": true
    }
   },
   "outputs": [],
   "source": [
    "# import DRL agents\n",
    "from agents.stablebaselines3_models import DRLAgent as DRLAgent_sb3\n",
    "from agents.rllib_models import DRLAgent as DRLAgent_rllib\n",
    "from agents.elegantrl_models import DRLAgent as DRLAgent_erl\n",
    "\n",
    "# import data processor\n",
    "from meta.data_processor import DataProcessor\n",
    "\n",
    "def test(start_date, end_date, ticker_list, data_source, time_interval,\n",
    "            technical_indicator_list, drl_lib, env, model_name, if_vix=True,\n",
    "            **kwargs):\n",
    "  \n",
    "    #process data using unified data processor\n",
    "    DP = DataProcessor(data_source, start_date, end_date, time_interval, **kwargs)\n",
    "    price_array, tech_array, turbulence_array = DP.run(ticker_list,\n",
    "                                                        technical_indicator_list, \n",
    "                                                        if_vix, cache=True)\n",
    "    \n",
    "    \n",
    "    np.save('./price_array.npy', price_array)\n",
    "    data_config = {'price_array':price_array,\n",
    "                   'tech_array':tech_array,\n",
    "                   'turbulence_array':turbulence_array}\n",
    "    #build environment using processed data\n",
    "    env_instance = env(config=data_config)\n",
    "\n",
    "    env_config = {\n",
    "        \"price_array\": price_array,\n",
    "        \"tech_array\": tech_array,\n",
    "        \"turbulence_array\": turbulence_array,\n",
    "        \"if_train\": False,\n",
    "    }\n",
    "    env_instance = env(config=env_config)\n",
    "\n",
    "    # load elegantrl needs state dim, action dim and net dim\n",
    "    net_dimension = kwargs.get(\"net_dimension\", 2 ** 7)\n",
    "    current_working_dir = kwargs.get(\"current_working_dir\", \"./\" + str(model_name))\n",
    "    print(\"price_array: \", len(price_array))\n",
    "\n",
    "    if drl_lib == \"elegantrl\":\n",
    "        episode_total_assets = DRLAgent_erl.DRL_prediction(\n",
    "            model_name=model_name,\n",
    "            cwd=current_working_dir,\n",
    "            net_dimension=net_dimension,\n",
    "            environment=env_instance,\n",
    "        )\n",
    "\n",
    "        return episode_total_assets\n",
    "\n",
    "    elif drl_lib == \"rllib\":\n",
    "        # load agent\n",
    "        episode_total_assets = DRLAgent_rllib.DRL_prediction(\n",
    "            model_name=model_name,\n",
    "            env=env,\n",
    "            price_array=price_array,\n",
    "            tech_array=tech_array,\n",
    "            turbulence_array=turbulence_array,\n",
    "            agent_path=current_working_dir,\n",
    "        )\n",
    "\n",
    "        return episode_total_assets\n",
    "\n",
    "    elif drl_lib == \"stable_baselines3\":\n",
    "        episode_total_assets = DRLAgent_sb3.DRL_prediction_load_from_file(\n",
    "            model_name=model_name, environment=env_instance, cwd=current_working_dir\n",
    "        )\n",
    "\n",
    "        return episode_total_assets\n",
    "    else:\n",
    "        raise ValueError(\"DRL library input is NOT supported. Please check.\")\n"
   ]
  },
  {
   "cell_type": "markdown",
   "metadata": {
    "id": "TWLiSsz3Imqf"
   },
   "source": [
    "## Multiple Cryptocurrencies Trading Env"
   ]
  },
  {
   "cell_type": "code",
   "execution_count": 110,
   "metadata": {
    "id": "UUTc4dhRIraO"
   },
   "outputs": [],
   "source": [
    "import numpy as np\n",
    "import math\n",
    "\n",
    "class CryptoEnv:  # custom env\n",
    "    def __init__(self, config, lookback=1, initial_capital=1e6, \n",
    "                 buy_cost_pct=1e-3, sell_cost_pct=1e-3, gamma=0.99):\n",
    "        self.lookback = lookback\n",
    "        self.initial_total_asset = initial_capital\n",
    "        self.initial_cash = initial_capital\n",
    "        self.buy_cost_pct = buy_cost_pct\n",
    "        self.sell_cost_pct = sell_cost_pct\n",
    "        self.max_stock = 1\n",
    "        self.gamma = gamma\n",
    "        self.price_array = config['price_array']\n",
    "        self.tech_array = config['tech_array']\n",
    "        self._generate_action_normalizer()\n",
    "        self.crypto_num = self.price_array.shape[1]\n",
    "        self.max_step = self.price_array.shape[0] - lookback - 1\n",
    "        \n",
    "        # reset\n",
    "        self.time = lookback-1\n",
    "        self.cash = self.initial_cash\n",
    "        self.current_price = self.price_array[self.time]\n",
    "        self.current_tech = self.tech_array[self.time]\n",
    "        self.stocks = np.zeros(self.crypto_num, dtype=np.float32)\n",
    "\n",
    "        self.total_asset = self.cash + (self.stocks * self.price_array[self.time]).sum()\n",
    "        self.episode_return = 0.0  \n",
    "        self.gamma_return = 0.0\n",
    "        \n",
    "\n",
    "        '''env information'''\n",
    "        self.env_name = 'MulticryptoEnv'\n",
    "        self.state_dim = 1 + (self.price_array.shape[1] + self.tech_array.shape[1])*lookback\n",
    "        self.action_dim = self.price_array.shape[1]\n",
    "        self.if_discrete = False\n",
    "        self.target_return = 10\n",
    "\n",
    "\n",
    "    def reset(self) -> np.ndarray:\n",
    "        self.time = self.lookback-1\n",
    "        self.current_price = self.price_array[self.time]\n",
    "        self.current_tech = self.tech_array[self.time]\n",
    "        self.cash = self.initial_cash  # reset()\n",
    "        self.stocks = np.zeros(self.crypto_num, dtype=np.float32)\n",
    "        self.total_asset = self.cash + (self.stocks * self.price_array[self.time]).sum()\n",
    "        \n",
    "        state = self.get_state()\n",
    "        return state\n",
    "\n",
    "    def step(self, actions) -> (np.ndarray, float, bool, None):\n",
    "        self.time += 1\n",
    "        \n",
    "        price = self.price_array[self.time]\n",
    "        for i in range(self.action_dim):\n",
    "            norm_vector_i = self.action_norm_vector[i]\n",
    "            actions[i] = actions[i] * norm_vector_i\n",
    "            \n",
    "        for index in np.where(actions < 0)[0]:  # sell_index:\n",
    "            if price[index] > 0:  # Sell only if current asset is > 0\n",
    "                sell_num_shares = min(self.stocks[index], -actions[index])\n",
    "                self.stocks[index] -= sell_num_shares\n",
    "                self.cash += price[index] * sell_num_shares * (1 - self.sell_cost_pct)\n",
    "                \n",
    "        for index in np.where(actions > 0)[0]:  # buy_index:\n",
    "            if price[index] > 0:  # Buy only if the price is > 0 (no missing data in this particular date)\n",
    "                buy_num_shares = min(self.cash // price[index], actions[index])\n",
    "                self.stocks[index] += buy_num_shares\n",
    "                self.cash -= price[index] * buy_num_shares * (1 + self.buy_cost_pct)\n",
    "\n",
    "        \"\"\"update time\"\"\"\n",
    "        done = self.time == self.max_step\n",
    "        state = self.get_state()\n",
    "        next_total_asset = self.cash + (self.stocks * self.price_array[self.time]).sum()\n",
    "        reward = (next_total_asset - self.total_asset) * 2 ** -16  \n",
    "        self.total_asset = next_total_asset\n",
    "        self.gamma_return = self.gamma_return * self.gamma + reward \n",
    "        self.cumu_return = self.total_asset / self.initial_cash\n",
    "        if done:\n",
    "            reward = self.gamma_return\n",
    "            self.episode_return = self.total_asset / self.initial_cash\n",
    "        return state, reward, done, None\n",
    "\n",
    "    def get_state(self):\n",
    "        state =  np.hstack((self.cash * 2 ** -18, self.stocks * 2 ** -3))\n",
    "        for i in range(self.lookback):\n",
    "            tech_i = self.tech_array[self.time-i]\n",
    "            normalized_tech_i = tech_i * 2 ** -15\n",
    "            state = np.hstack((state, normalized_tech_i)).astype(np.float32)\n",
    "        return state\n",
    "    \n",
    "    def close(self):\n",
    "        pass\n",
    "\n",
    "    def _generate_action_normalizer(self):\n",
    "        action_norm_vector = []\n",
    "        price_0 = self.price_array[0]\n",
    "        for price in price_0:\n",
    "            x = math.floor(math.log(price, 10)) #the order of magnitude \n",
    "            action_norm_vector.append(1/((10)**x)) \n",
    "            \n",
    "        action_norm_vector = np.asarray(action_norm_vector) * 10000\n",
    "        self.action_norm_vector = np.asarray(action_norm_vector)\n",
    "        "
   ]
  },
  {
   "cell_type": "markdown",
   "metadata": {
    "id": "C8YsfqhOGBaf"
   },
   "source": [
    "## Set Parameters"
   ]
  },
  {
   "cell_type": "code",
   "execution_count": 123,
   "metadata": {
    "id": "m2uDrp5uFM3t"
   },
   "outputs": [],
   "source": [
    "TICKER_LIST = ['BTCUSDT','ETHUSDT','ADAUSDT','BNBUSDT','XRPUSDT',\n",
    "                'SOLUSDT','DOTUSDT', 'DOGEUSDT','AVAXUSDT','UNIUSDT']\n",
    "env = CryptoEnv\n",
    "TRAIN_START_DATE = '2021-09-01'\n",
    "TRAIN_END_DATE = '2021-09-02'\n",
    "\n",
    "TEST_START_DATE = '2021-09-21'\n",
    "TEST_END_DATE = '2021-09-30'\n",
    "\n",
    "INDICATORS = ['macd', 'rsi', 'cci', 'dx'] #self-defined technical indicator list is NOT supported yet\n",
    "\n",
    "ERL_PARAMS = {\"learning_rate\": 2**-15,\"batch_size\": 2**11,\n",
    "                \"gamma\": 0.99, \"seed\":312,\"net_dimension\": 2**9, \n",
    "                \"target_step\": 5000, \"eval_gap\": 30, \"eval_times\": 1}"
   ]
  },
  {
   "cell_type": "markdown",
   "metadata": {
    "id": "NFar1DpfGFvP"
   },
   "source": [
    "## Training"
   ]
  },
  {
   "cell_type": "code",
   "execution_count": 124,
   "metadata": {
    "colab": {
     "base_uri": "https://localhost:8080/",
     "height": 936
    },
    "id": "Hwt2kM5pFPiK",
    "outputId": "1aeba427-a555-4a95-c137-843edcf4c04d"
   },
   "outputs": [
    {
     "name": "stdout",
     "output_type": "stream",
     "text": [
      "Not support for {self.data_source}\n",
      "{self.data_source} successfully connected\n",
      "Using cached file ./cache/BTCUSDT_ETHUSDT_ADAUSDT_BNBUSDT_XRPUSDT_SOLUSDT_DOTUSDT_DOGEUSDT_AVAXUSDT_UNIUSDT_binance_2021-09-01_2021-09-02_5m.pickle\n",
      "tech_indicator_list:  ['macd', 'rsi', 'cci', 'dx']\n",
      "indicator:  macd\n",
      "indicator:  rsi\n",
      "indicator:  cci\n",
      "indicator:  dx\n",
      "Succesfully add technical indicators\n",
      "Successfully transformed into array\n",
      "| Arguments Remove cwd: ./test_ppo\n"
     ]
    },
    {
     "ename": "TypeError",
     "evalue": "ignored",
     "output_type": "error",
     "traceback": [
      "\u001b[0;31m---------------------------------------------------------------------------\u001b[0m",
      "\u001b[0;31mTypeError\u001b[0m                                 Traceback (most recent call last)",
      "\u001b[0;32m<ipython-input-124-0e8fc459cfcb>\u001b[0m in \u001b[0;36m<module>\u001b[0;34m()\u001b[0m\n\u001b[1;32m     11\u001b[0m       \u001b[0merl_params\u001b[0m\u001b[0;34m=\u001b[0m\u001b[0mERL_PARAMS\u001b[0m\u001b[0;34m,\u001b[0m\u001b[0;34m\u001b[0m\u001b[0;34m\u001b[0m\u001b[0m\n\u001b[1;32m     12\u001b[0m       \u001b[0mbreak_step\u001b[0m\u001b[0;34m=\u001b[0m\u001b[0;36m5e4\u001b[0m\u001b[0;34m,\u001b[0m\u001b[0;34m\u001b[0m\u001b[0;34m\u001b[0m\u001b[0m\n\u001b[0;32m---> 13\u001b[0;31m       \u001b[0mif_vix\u001b[0m\u001b[0;34m=\u001b[0m\u001b[0;32mFalse\u001b[0m\u001b[0;34m\u001b[0m\u001b[0;34m\u001b[0m\u001b[0m\n\u001b[0m\u001b[1;32m     14\u001b[0m       )\n",
      "\u001b[0;32m<ipython-input-122-db5d732da335>\u001b[0m in \u001b[0;36mtrain\u001b[0;34m(start_date, end_date, ticker_list, data_source, time_interval, technical_indicator_list, drl_lib, env, model_name, if_vix, **kwargs)\u001b[0m\n\u001b[1;32m     37\u001b[0m         trained_model = agent.train_model(model=model, \n\u001b[1;32m     38\u001b[0m                                           \u001b[0mcwd\u001b[0m\u001b[0;34m=\u001b[0m\u001b[0mcurrent_working_dir\u001b[0m\u001b[0;34m,\u001b[0m\u001b[0;34m\u001b[0m\u001b[0;34m\u001b[0m\u001b[0m\n\u001b[0;32m---> 39\u001b[0;31m                                           total_timesteps=break_step)\n\u001b[0m\u001b[1;32m     40\u001b[0m \u001b[0;34m\u001b[0m\u001b[0m\n\u001b[1;32m     41\u001b[0m \u001b[0;34m\u001b[0m\u001b[0m\n",
      "\u001b[0;32m/FinRL-Meta/drl_agents/elegantrl_models.py\u001b[0m in \u001b[0;36mtrain_model\u001b[0;34m(self, model, cwd, total_timesteps)\u001b[0m\n\u001b[1;32m     82\u001b[0m \u001b[0;34m\u001b[0m\u001b[0m\n\u001b[1;32m     83\u001b[0m         \u001b[0mprint\u001b[0m\u001b[0;34m(\u001b[0m\u001b[0;34m'got here?'\u001b[0m\u001b[0;34m)\u001b[0m\u001b[0;34m\u001b[0m\u001b[0;34m\u001b[0m\u001b[0m\n\u001b[0;32m---> 84\u001b[0;31m \u001b[0;34m\u001b[0m\u001b[0m\n\u001b[0m\u001b[1;32m     85\u001b[0m         \u001b[0mmodel\u001b[0m\u001b[0;34m.\u001b[0m\u001b[0mcwd\u001b[0m \u001b[0;34m=\u001b[0m \u001b[0mcwd\u001b[0m\u001b[0;34m\u001b[0m\u001b[0;34m\u001b[0m\u001b[0m\n\u001b[1;32m     86\u001b[0m         \u001b[0mmodel\u001b[0m\u001b[0;34m.\u001b[0m\u001b[0mbreak_step\u001b[0m \u001b[0;34m=\u001b[0m \u001b[0mtotal_timesteps\u001b[0m\u001b[0;34m\u001b[0m\u001b[0;34m\u001b[0m\u001b[0m\n",
      "\u001b[0;32m/usr/local/lib/python3.7/dist-packages/elegantrl/train/run.py\u001b[0m in \u001b[0;36mtrain_and_evaluate\u001b[0;34m(args)\u001b[0m\n\u001b[1;32m     20\u001b[0m     \u001b[0mgpu_id\u001b[0m \u001b[0;34m=\u001b[0m \u001b[0margs\u001b[0m\u001b[0;34m.\u001b[0m\u001b[0mlearner_gpus\u001b[0m\u001b[0;34m\u001b[0m\u001b[0;34m\u001b[0m\u001b[0m\n\u001b[1;32m     21\u001b[0m \u001b[0;34m\u001b[0m\u001b[0m\n\u001b[0;32m---> 22\u001b[0;31m     \u001b[0;34m'''init'''\u001b[0m\u001b[0;34m\u001b[0m\u001b[0;34m\u001b[0m\u001b[0m\n\u001b[0m\u001b[1;32m     23\u001b[0m     \u001b[0menv\u001b[0m \u001b[0;34m=\u001b[0m \u001b[0mbuild_env\u001b[0m\u001b[0;34m(\u001b[0m\u001b[0margs\u001b[0m\u001b[0;34m.\u001b[0m\u001b[0menv\u001b[0m\u001b[0;34m,\u001b[0m \u001b[0margs\u001b[0m\u001b[0;34m.\u001b[0m\u001b[0menv_func\u001b[0m\u001b[0;34m,\u001b[0m \u001b[0margs\u001b[0m\u001b[0;34m.\u001b[0m\u001b[0menv_args\u001b[0m\u001b[0;34m)\u001b[0m\u001b[0;34m\u001b[0m\u001b[0;34m\u001b[0m\u001b[0m\n\u001b[1;32m     24\u001b[0m     \u001b[0magent\u001b[0m \u001b[0;34m=\u001b[0m \u001b[0minit_agent\u001b[0m\u001b[0;34m(\u001b[0m\u001b[0margs\u001b[0m\u001b[0;34m,\u001b[0m \u001b[0mgpu_id\u001b[0m\u001b[0;34m,\u001b[0m \u001b[0menv\u001b[0m\u001b[0;34m)\u001b[0m\u001b[0;34m\u001b[0m\u001b[0;34m\u001b[0m\u001b[0m\n",
      "\u001b[0;32m/usr/local/lib/python3.7/dist-packages/elegantrl/train/run.py\u001b[0m in \u001b[0;36minit_agent\u001b[0;34m(args, gpu_id, env)\u001b[0m\n\u001b[1;32m     62\u001b[0m     \u001b[0mbuffer\u001b[0m\u001b[0;34m.\u001b[0m\u001b[0msave_or_load_history\u001b[0m\u001b[0;34m(\u001b[0m\u001b[0mcwd\u001b[0m\u001b[0;34m,\u001b[0m \u001b[0mif_save\u001b[0m\u001b[0;34m=\u001b[0m\u001b[0;32mTrue\u001b[0m\u001b[0;34m)\u001b[0m \u001b[0;32mif\u001b[0m \u001b[0magent\u001b[0m\u001b[0;34m.\u001b[0m\u001b[0mif_off_policy\u001b[0m \u001b[0;32melse\u001b[0m \u001b[0;32mNone\u001b[0m\u001b[0;34m\u001b[0m\u001b[0;34m\u001b[0m\u001b[0m\n\u001b[1;32m     63\u001b[0m \u001b[0;34m\u001b[0m\u001b[0m\n\u001b[0;32m---> 64\u001b[0;31m \u001b[0;34m\u001b[0m\u001b[0m\n\u001b[0m\u001b[1;32m     65\u001b[0m \u001b[0;32mdef\u001b[0m \u001b[0minit_agent\u001b[0m\u001b[0;34m(\u001b[0m\u001b[0margs\u001b[0m\u001b[0;34m,\u001b[0m \u001b[0mgpu_id\u001b[0m\u001b[0;34m,\u001b[0m \u001b[0menv\u001b[0m\u001b[0;34m=\u001b[0m\u001b[0;32mNone\u001b[0m\u001b[0;34m)\u001b[0m\u001b[0;34m:\u001b[0m\u001b[0;34m\u001b[0m\u001b[0;34m\u001b[0m\u001b[0m\n\u001b[1;32m     66\u001b[0m     \u001b[0magent\u001b[0m \u001b[0;34m=\u001b[0m \u001b[0margs\u001b[0m\u001b[0;34m.\u001b[0m\u001b[0magent\u001b[0m\u001b[0;34m(\u001b[0m\u001b[0margs\u001b[0m\u001b[0;34m.\u001b[0m\u001b[0mnet_dim\u001b[0m\u001b[0;34m,\u001b[0m \u001b[0margs\u001b[0m\u001b[0;34m.\u001b[0m\u001b[0mstate_dim\u001b[0m\u001b[0;34m,\u001b[0m \u001b[0margs\u001b[0m\u001b[0;34m.\u001b[0m\u001b[0maction_dim\u001b[0m\u001b[0;34m,\u001b[0m \u001b[0mgpu_id\u001b[0m\u001b[0;34m=\u001b[0m\u001b[0mgpu_id\u001b[0m\u001b[0;34m,\u001b[0m \u001b[0margs\u001b[0m\u001b[0;34m=\u001b[0m\u001b[0margs\u001b[0m\u001b[0;34m)\u001b[0m\u001b[0;34m\u001b[0m\u001b[0;34m\u001b[0m\u001b[0m\n",
      "\u001b[0;31mTypeError\u001b[0m: 'module' object is not callable"
     ]
    }
   ],
   "source": [
    "train(start_date=TRAIN_START_DATE, \n",
    "      end_date=TRAIN_END_DATE,\n",
    "      ticker_list=TICKER_LIST, \n",
    "      data_source='binance',\n",
    "      time_interval='5m', \n",
    "      technical_indicator_list=INDICATORS,\n",
    "      drl_lib='elegantrl', \n",
    "      env=env, \n",
    "      model_name='ppo', \n",
    "      current_working_dir='./test_ppo',\n",
    "      erl_params=ERL_PARAMS,\n",
    "      break_step=5e4,\n",
    "      if_vix=False\n",
    "      )"
   ]
  },
  {
   "cell_type": "markdown",
   "metadata": {
    "id": "6y7bIQdkGLLU"
   },
   "source": [
    "## Testing"
   ]
  },
  {
   "cell_type": "code",
   "execution_count": null,
   "metadata": {
    "id": "44EXeZglFS8d"
   },
   "outputs": [],
   "source": [
    "account_value_erl = test(start_date = TEST_START_DATE, \n",
    "                        end_date = TEST_END_DATE,\n",
    "                        ticker_list = TICKER_LIST, \n",
    "                        data_source = 'binance',\n",
    "                        time_interval= '5m', \n",
    "                        technical_indicator_list= INDICATORS,\n",
    "                        drl_lib='elegantrl', \n",
    "                        env=env, \n",
    "                        model_name='ppo', \n",
    "                        current_working_dir='./test_ppo', \n",
    "                        net_dimension = 2**9, \n",
    "                        if_vix=False\n",
    "                        )"
   ]
  },
  {
   "cell_type": "markdown",
   "metadata": {
    "id": "TSQ8YMCZGN1H"
   },
   "source": [
    "## Plotting"
   ]
  },
  {
   "cell_type": "code",
   "execution_count": null,
   "metadata": {
    "id": "fInPrpp6QoKK"
   },
   "outputs": [],
   "source": [
    "import matplotlib.pyplot as plt\n",
    "import matplotlib.ticker as ticker\n",
    "import matplotlib.dates as mdates\n",
    "%matplotlib inline\n",
    "#calculate agent returns\n",
    "account_value_erl = np.array(account_value_erl)\n",
    "agent_returns = account_value_erl/account_value_erl[0]\n",
    "#calculate buy-and-hold btc returns\n",
    "price_array = np.load('./price_array.npy')\n",
    "btc_prices = price_array[:,0]\n",
    "buy_hold_btc_returns = btc_prices/btc_prices[0]\n",
    "#calculate equal weight portfolio returns\n",
    "price_array = np.load('./price_array.npy')\n",
    "initial_prices = price_array[0,:]\n",
    "equal_weight = np.array([1e5/initial_prices[i] for i in range(len(TICKER_LIST))])\n",
    "equal_weight_values = []\n",
    "for i in range(0, price_array.shape[0]):\n",
    "    equal_weight_values.append(np.sum(equal_weight * price_array[i]))\n",
    "equal_weight_values = np.array(equal_weight_values)\n",
    "equal_returns = equal_weight_values/equal_weight_values[0]\n",
    "#plot \n",
    "plt.figure(dpi=200)\n",
    "plt.grid()\n",
    "plt.grid(which='minor', axis='y')\n",
    "plt.title('Cryptocurrency Trading ', fontsize=20)\n",
    "plt.plot(agent_returns, label='ElegantRL Agent', color = 'red')\n",
    "plt.plot(buy_hold_btc_returns, label='Buy-and-Hold BTC', color='blue')\n",
    "plt.plot(equal_returns, label='Equal Weight Portfolio', color='green')\n",
    "plt.ylabel('Return', fontsize=16)\n",
    "plt.xlabel('Times (5min)', fontsize=16)\n",
    "plt.xticks(size=14)\n",
    "plt.yticks(size=14)\n",
    "'''ax = plt.gca()\n",
    "ax.xaxis.set_major_locator(ticker.MultipleLocator(210))\n",
    "ax.xaxis.set_minor_locator(ticker.MultipleLocator(21))\n",
    "ax.yaxis.set_minor_locator(ticker.MultipleLocator(0.005))\n",
    "ax.yaxis.set_major_formatter(ticker.PercentFormatter(xmax=1, decimals=2))\n",
    "ax.xaxis.set_major_formatter(ticker.FixedFormatter([]))'''\n",
    "plt.legend(fontsize=10.5)"
   ]
  },
  {
   "cell_type": "code",
   "execution_count": null,
   "metadata": {
    "id": "UuI8e3JK08Iw"
   },
   "outputs": [],
   "source": []
  }
 ],
 "metadata": {
  "accelerator": "GPU",
  "colab": {
   "collapsed_sections": [],
   "name": "Demo_MultiCrypto_Trading.ipynb",
   "provenance": []
  },
  "interpreter": {
   "hash": "28691883d40527565c3f74e1f87454592f1d4260e8ac485ad8f512df4feb8e2a"
  },
  "kernelspec": {
   "display_name": "Python 3 (ipykernel)",
   "language": "python",
   "name": "python3"
  },
  "language_info": {
   "codemirror_mode": {
    "name": "ipython",
    "version": 3
   },
   "file_extension": ".py",
   "mimetype": "text/x-python",
   "name": "python",
   "nbconvert_exporter": "python",
   "pygments_lexer": "ipython3",
   "version": "3.10.12"
  }
 },
 "nbformat": 4,
 "nbformat_minor": 4
}
